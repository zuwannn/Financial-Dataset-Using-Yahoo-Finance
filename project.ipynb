{
 "cells": [
  {
   "cell_type": "code",
   "execution_count": 5,
   "metadata": {},
   "outputs": [],
   "source": [
    "# If you do not have these libraries, you can install them via pip.\n",
    "#!pip install yfinance\n",
    "#!pip install yahoofinancials"
   ]
  },
  {
   "cell_type": "code",
   "execution_count": 4,
   "metadata": {},
   "outputs": [],
   "source": [
    "import pandas as pd\n",
    "import yfinance as yf\n",
    "from yahoofinancials import YahooFinancials"
   ]
  },
  {
   "cell_type": "markdown",
   "metadata": {},
   "source": [
    "## First Method: How to use yfinance"
   ]
  },
  {
   "cell_type": "code",
   "execution_count": 9,
   "metadata": {},
   "outputs": [
    {
     "data": {
      "text/html": [
       "<div>\n",
       "<style scoped>\n",
       "    .dataframe tbody tr th:only-of-type {\n",
       "        vertical-align: middle;\n",
       "    }\n",
       "\n",
       "    .dataframe tbody tr th {\n",
       "        vertical-align: top;\n",
       "    }\n",
       "\n",
       "    .dataframe thead th {\n",
       "        text-align: right;\n",
       "    }\n",
       "</style>\n",
       "<table border=\"1\" class=\"dataframe\">\n",
       "  <thead>\n",
       "    <tr style=\"text-align: right;\">\n",
       "      <th></th>\n",
       "      <th>Open</th>\n",
       "      <th>High</th>\n",
       "      <th>Low</th>\n",
       "      <th>Close</th>\n",
       "      <th>Adj Close</th>\n",
       "      <th>Volume</th>\n",
       "    </tr>\n",
       "    <tr>\n",
       "      <th>Date</th>\n",
       "      <th></th>\n",
       "      <th></th>\n",
       "      <th></th>\n",
       "      <th></th>\n",
       "      <th></th>\n",
       "      <th></th>\n",
       "    </tr>\n",
       "  </thead>\n",
       "  <tbody>\n",
       "    <tr>\n",
       "      <th>2018-12-31</th>\n",
       "      <td>3866.839111</td>\n",
       "      <td>3868.742920</td>\n",
       "      <td>3725.867432</td>\n",
       "      <td>3742.700439</td>\n",
       "      <td>3742.700439</td>\n",
       "      <td>4661840806</td>\n",
       "    </tr>\n",
       "    <tr>\n",
       "      <th>2019-01-01</th>\n",
       "      <td>3746.713379</td>\n",
       "      <td>3850.913818</td>\n",
       "      <td>3707.231201</td>\n",
       "      <td>3843.520020</td>\n",
       "      <td>3843.520020</td>\n",
       "      <td>4324200990</td>\n",
       "    </tr>\n",
       "    <tr>\n",
       "      <th>2019-01-02</th>\n",
       "      <td>3849.216309</td>\n",
       "      <td>3947.981201</td>\n",
       "      <td>3817.409424</td>\n",
       "      <td>3943.409424</td>\n",
       "      <td>3943.409424</td>\n",
       "      <td>5244856836</td>\n",
       "    </tr>\n",
       "    <tr>\n",
       "      <th>2019-01-03</th>\n",
       "      <td>3931.048584</td>\n",
       "      <td>3935.685059</td>\n",
       "      <td>3826.222900</td>\n",
       "      <td>3836.741211</td>\n",
       "      <td>3836.741211</td>\n",
       "      <td>4530215219</td>\n",
       "    </tr>\n",
       "    <tr>\n",
       "      <th>2019-01-04</th>\n",
       "      <td>3832.040039</td>\n",
       "      <td>3865.934570</td>\n",
       "      <td>3783.853760</td>\n",
       "      <td>3857.717529</td>\n",
       "      <td>3857.717529</td>\n",
       "      <td>4847965467</td>\n",
       "    </tr>\n",
       "  </tbody>\n",
       "</table>\n",
       "</div>"
      ],
      "text/plain": [
       "                   Open         High          Low        Close    Adj Close  \\\n",
       "Date                                                                          \n",
       "2018-12-31  3866.839111  3868.742920  3725.867432  3742.700439  3742.700439   \n",
       "2019-01-01  3746.713379  3850.913818  3707.231201  3843.520020  3843.520020   \n",
       "2019-01-02  3849.216309  3947.981201  3817.409424  3943.409424  3943.409424   \n",
       "2019-01-03  3931.048584  3935.685059  3826.222900  3836.741211  3836.741211   \n",
       "2019-01-04  3832.040039  3865.934570  3783.853760  3857.717529  3857.717529   \n",
       "\n",
       "                Volume  \n",
       "Date                    \n",
       "2018-12-31  4661840806  \n",
       "2019-01-01  4324200990  \n",
       "2019-01-02  5244856836  \n",
       "2019-01-03  4530215219  \n",
       "2019-01-04  4847965467  "
      ]
     },
     "execution_count": 9,
     "metadata": {},
     "output_type": "execute_result"
    }
   ],
   "source": [
    "btc_df = yf.download('BTC-USD', \n",
    "                      start='2019-01-01', \n",
    "                      end='2021-06-12', \n",
    "                      progress=False\n",
    ")\n",
    "btc_df.head()"
   ]
  },
  {
   "cell_type": "code",
   "execution_count": 10,
   "metadata": {},
   "outputs": [
    {
     "name": "stdout",
     "output_type": "stream",
     "text": [
      "[*********************100%***********************]  1 of 1 completed\n"
     ]
    }
   ],
   "source": [
    "btc_df = yf.download('BTC-USD')"
   ]
  },
  {
   "cell_type": "code",
   "execution_count": 16,
   "metadata": {},
   "outputs": [
    {
     "data": {
      "text/plain": [
       "<AxesSubplot:title={'center':\"Bitcion's stock price\"}, xlabel='Date'>"
      ]
     },
     "execution_count": 16,
     "metadata": {},
     "output_type": "execute_result"
    },
    {
     "data": {
      "image/png": "[encoded data removed]",
      "text/plain": [
       "<Figure size 432x288 with 1 Axes>"
      ]
     },
     "metadata": {
      "needs_background": "light"
     },
     "output_type": "display_data"
    }
   ],
   "source": [
    "ticker = yf.Ticker('BTC-USD')\n",
    "btc_df = ticker.history(period=\"5y\")\n",
    "btc_df['Close'].plot(title=\"Bitcion's stock price\")"
   ]
  },
  {
   "cell_type": "markdown",
   "metadata": {},
   "source": [
    "Apple's stock price"
   ]
  },
  {
   "cell_type": "code",
   "execution_count": 19,
   "metadata": {},
   "outputs": [
    {
     "data": {
      "text/html": [
       "<div>\n",
       "<style scoped>\n",
       "    .dataframe tbody tr th:only-of-type {\n",
       "        vertical-align: middle;\n",
       "    }\n",
       "\n",
       "    .dataframe tbody tr th {\n",
       "        vertical-align: top;\n",
       "    }\n",
       "\n",
       "    .dataframe thead th {\n",
       "        text-align: right;\n",
       "    }\n",
       "</style>\n",
       "<table border=\"1\" class=\"dataframe\">\n",
       "  <thead>\n",
       "    <tr style=\"text-align: right;\">\n",
       "      <th></th>\n",
       "      <th>high</th>\n",
       "      <th>low</th>\n",
       "      <th>open</th>\n",
       "      <th>close</th>\n",
       "      <th>volume</th>\n",
       "      <th>adjclose</th>\n",
       "    </tr>\n",
       "    <tr>\n",
       "      <th>formatted_date</th>\n",
       "      <th></th>\n",
       "      <th></th>\n",
       "      <th></th>\n",
       "      <th></th>\n",
       "      <th></th>\n",
       "      <th></th>\n",
       "    </tr>\n",
       "  </thead>\n",
       "  <tbody>\n",
       "    <tr>\n",
       "      <th>2019-01-01</th>\n",
       "      <td>39.712502</td>\n",
       "      <td>35.500000</td>\n",
       "      <td>38.722500</td>\n",
       "      <td>36.982498</td>\n",
       "      <td>966947200</td>\n",
       "      <td>35.954170</td>\n",
       "    </tr>\n",
       "    <tr>\n",
       "      <th>2019-01-08</th>\n",
       "      <td>38.632500</td>\n",
       "      <td>37.130001</td>\n",
       "      <td>37.389999</td>\n",
       "      <td>37.500000</td>\n",
       "      <td>725470000</td>\n",
       "      <td>36.457283</td>\n",
       "    </tr>\n",
       "    <tr>\n",
       "      <th>2019-01-15</th>\n",
       "      <td>39.470001</td>\n",
       "      <td>37.512501</td>\n",
       "      <td>37.567501</td>\n",
       "      <td>39.205002</td>\n",
       "      <td>491411200</td>\n",
       "      <td>38.114872</td>\n",
       "    </tr>\n",
       "    <tr>\n",
       "      <th>2019-01-22</th>\n",
       "      <td>39.532501</td>\n",
       "      <td>37.924999</td>\n",
       "      <td>39.102501</td>\n",
       "      <td>39.075001</td>\n",
       "      <td>554774800</td>\n",
       "      <td>37.988487</td>\n",
       "    </tr>\n",
       "    <tr>\n",
       "      <th>2019-01-29</th>\n",
       "      <td>42.915001</td>\n",
       "      <td>38.527500</td>\n",
       "      <td>39.062500</td>\n",
       "      <td>42.812500</td>\n",
       "      <td>830400800</td>\n",
       "      <td>41.622059</td>\n",
       "    </tr>\n",
       "  </tbody>\n",
       "</table>\n",
       "</div>"
      ],
      "text/plain": [
       "                     high        low       open      close     volume  \\\n",
       "formatted_date                                                          \n",
       "2019-01-01      39.712502  35.500000  38.722500  36.982498  966947200   \n",
       "2019-01-08      38.632500  37.130001  37.389999  37.500000  725470000   \n",
       "2019-01-15      39.470001  37.512501  37.567501  39.205002  491411200   \n",
       "2019-01-22      39.532501  37.924999  39.102501  39.075001  554774800   \n",
       "2019-01-29      42.915001  38.527500  39.062500  42.812500  830400800   \n",
       "\n",
       "                 adjclose  \n",
       "formatted_date             \n",
       "2019-01-01      35.954170  \n",
       "2019-01-08      36.457283  \n",
       "2019-01-15      38.114872  \n",
       "2019-01-22      37.988487  \n",
       "2019-01-29      41.622059  "
      ]
     },
     "execution_count": 19,
     "metadata": {},
     "output_type": "execute_result"
    }
   ],
   "source": [
    "yahoo_financials = YahooFinancials('AAPL')\n",
    "data = yahoo_financials.get_historical_price_data(start_date='2019-01-01', \n",
    "                                                  end_date='2019-12-31', \n",
    "                                                  time_interval='weekly')\n",
    "aapl_df = pd.DataFrame(data['AAPL']['prices'])\n",
    "aapl_df = aapl_df.drop('date', axis=1).set_index('formatted_date')\n",
    "aapl_df.head()"
   ]
  },
  {
   "cell_type": "markdown",
   "metadata": {},
   "source": [
    "## Second Method: How to use yahoofinancials"
   ]
  },
  {
   "cell_type": "markdown",
   "metadata": {},
   "source": [
    "Bitcion's stock price"
   ]
  },
  {
   "cell_type": "code",
   "execution_count": 20,
   "metadata": {},
   "outputs": [
    {
     "data": {
      "text/html": [
       "<div>\n",
       "<style scoped>\n",
       "    .dataframe tbody tr th:only-of-type {\n",
       "        vertical-align: middle;\n",
       "    }\n",
       "\n",
       "    .dataframe tbody tr th {\n",
       "        vertical-align: top;\n",
       "    }\n",
       "\n",
       "    .dataframe thead th {\n",
       "        text-align: right;\n",
       "    }\n",
       "</style>\n",
       "<table border=\"1\" class=\"dataframe\">\n",
       "  <thead>\n",
       "    <tr style=\"text-align: right;\">\n",
       "      <th></th>\n",
       "      <th>high</th>\n",
       "      <th>low</th>\n",
       "      <th>open</th>\n",
       "      <th>close</th>\n",
       "      <th>volume</th>\n",
       "      <th>adjclose</th>\n",
       "    </tr>\n",
       "    <tr>\n",
       "      <th>formatted_date</th>\n",
       "      <th></th>\n",
       "      <th></th>\n",
       "      <th></th>\n",
       "      <th></th>\n",
       "      <th></th>\n",
       "      <th></th>\n",
       "    </tr>\n",
       "  </thead>\n",
       "  <tbody>\n",
       "    <tr>\n",
       "      <th>2019-07-31</th>\n",
       "      <td>12273.821289</td>\n",
       "      <td>9421.629883</td>\n",
       "      <td>10077.442383</td>\n",
       "      <td>9630.664062</td>\n",
       "      <td>533984971734</td>\n",
       "      <td>9630.664062</td>\n",
       "    </tr>\n",
       "    <tr>\n",
       "      <th>2019-08-31</th>\n",
       "      <td>10898.761719</td>\n",
       "      <td>7830.758789</td>\n",
       "      <td>9630.592773</td>\n",
       "      <td>8293.868164</td>\n",
       "      <td>480544963230</td>\n",
       "      <td>8293.868164</td>\n",
       "    </tr>\n",
       "    <tr>\n",
       "      <th>2019-09-30</th>\n",
       "      <td>10021.744141</td>\n",
       "      <td>7446.988770</td>\n",
       "      <td>8299.720703</td>\n",
       "      <td>9199.584961</td>\n",
       "      <td>595205134748</td>\n",
       "      <td>9199.584961</td>\n",
       "    </tr>\n",
       "    <tr>\n",
       "      <th>2019-11-01</th>\n",
       "      <td>9505.051758</td>\n",
       "      <td>6617.166992</td>\n",
       "      <td>9193.992188</td>\n",
       "      <td>7569.629883</td>\n",
       "      <td>676919523650</td>\n",
       "      <td>7569.629883</td>\n",
       "    </tr>\n",
       "    <tr>\n",
       "      <th>2019-12-01</th>\n",
       "      <td>7743.431641</td>\n",
       "      <td>6540.049316</td>\n",
       "      <td>7571.616211</td>\n",
       "      <td>7193.599121</td>\n",
       "      <td>633790373416</td>\n",
       "      <td>7193.599121</td>\n",
       "    </tr>\n",
       "  </tbody>\n",
       "</table>\n",
       "</div>"
      ],
      "text/plain": [
       "                        high          low          open        close  \\\n",
       "formatted_date                                                         \n",
       "2019-07-31      12273.821289  9421.629883  10077.442383  9630.664062   \n",
       "2019-08-31      10898.761719  7830.758789   9630.592773  8293.868164   \n",
       "2019-09-30      10021.744141  7446.988770   8299.720703  9199.584961   \n",
       "2019-11-01       9505.051758  6617.166992   9193.992188  7569.629883   \n",
       "2019-12-01       7743.431641  6540.049316   7571.616211  7193.599121   \n",
       "\n",
       "                      volume     adjclose  \n",
       "formatted_date                             \n",
       "2019-07-31      533984971734  9630.664062  \n",
       "2019-08-31      480544963230  8293.868164  \n",
       "2019-09-30      595205134748  9199.584961  \n",
       "2019-11-01      676919523650  7569.629883  \n",
       "2019-12-01      633790373416  7193.599121  "
      ]
     },
     "execution_count": 20,
     "metadata": {},
     "output_type": "execute_result"
    }
   ],
   "source": [
    "yahoo_financials = YahooFinancials('BTC-USD')\n",
    "data=yahoo_financials.get_historical_price_data(\"2019-07-10\", \"2021-05-30\", \"monthly\")\n",
    "btc_df = pd.DataFrame(data['BTC-USD']['prices'])\n",
    "btc_df = btc_df.drop('date', axis=1).set_index('formatted_date')\n",
    "btc_df.head()"
   ]
  }
 ],
 "metadata": {
  "interpreter": {
   "hash": "e2fb31f127fed1e79f709faf34890f85681c06e7e30d28a328e5c7500cdf6725"
  },
  "kernelspec": {
   "display_name": "Python 3.7.9 64-bit",
   "name": "python3"
  },
  "language_info": {
   "codemirror_mode": {
    "name": "ipython",
    "version": 3
   },
   "file_extension": ".py",
   "mimetype": "text/x-python",
   "name": "python",
   "nbconvert_exporter": "python",
   "pygments_lexer": "ipython3",
   "version": "3.7.9"
  },
  "orig_nbformat": 4
 },
 "nbformat": 4,
 "nbformat_minor": 2
}
